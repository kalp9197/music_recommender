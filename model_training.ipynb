{
 "cells": [
  {
   "cell_type": "code",
   "execution_count": null,
   "id": "c95ecb55-324e-4ba4-b1cb-1e0c576a9e37",
   "metadata": {},
   "outputs": [
    {
     "ename": "ModuleNotFoundError",
     "evalue": "No module named 'pandas'",
     "output_type": "error",
     "traceback": [
      "\u001b[0;31m---------------------------------------------------------------------------\u001b[0m",
      "\u001b[0;31mModuleNotFoundError\u001b[0m                       Traceback (most recent call last)",
      "Cell \u001b[0;32mIn[10], line 1\u001b[0m\n\u001b[0;32m----> 1\u001b[0m \u001b[38;5;28;01mimport\u001b[39;00m \u001b[38;5;21;01mpandas\u001b[39;00m \u001b[38;5;28;01mas\u001b[39;00m \u001b[38;5;21;01mpd\u001b[39;00m\n",
      "\u001b[0;31mModuleNotFoundError\u001b[0m: No module named 'pandas'"
     ]
    }
   ],
   "source": [
    "import pandas as pd"
   ]
  },
  {
   "cell_type": "code",
   "execution_count": 23,
   "id": "858697e1-c2a5-4eaf-a0ff-82d9311a2b98",
   "metadata": {},
   "outputs": [],
   "source": [
    "df = pd.read_csv(\"spotify_millsongdata.csv\")"
   ]
  },
  {
   "cell_type": "code",
   "execution_count": 24,
   "id": "6b7d29b7-80a4-4ce8-b1d0-ec4424202422",
   "metadata": {},
   "outputs": [
    {
     "data": {
      "text/html": [
       "<div>\n",
       "<style scoped>\n",
       "    .dataframe tbody tr th:only-of-type {\n",
       "        vertical-align: middle;\n",
       "    }\n",
       "\n",
       "    .dataframe tbody tr th {\n",
       "        vertical-align: top;\n",
       "    }\n",
       "\n",
       "    .dataframe thead th {\n",
       "        text-align: right;\n",
       "    }\n",
       "</style>\n",
       "<table border=\"1\" class=\"dataframe\">\n",
       "  <thead>\n",
       "    <tr style=\"text-align: right;\">\n",
       "      <th></th>\n",
       "      <th>artist</th>\n",
       "      <th>song</th>\n",
       "      <th>link</th>\n",
       "      <th>text</th>\n",
       "    </tr>\n",
       "  </thead>\n",
       "  <tbody>\n",
       "    <tr>\n",
       "      <th>0</th>\n",
       "      <td>ABBA</td>\n",
       "      <td>Ahe's My Kind Of Girl</td>\n",
       "      <td>/a/abba/ahes+my+kind+of+girl_20598417.html</td>\n",
       "      <td>Look at her face, it's a wonderful face  \\r\\nA...</td>\n",
       "    </tr>\n",
       "    <tr>\n",
       "      <th>1</th>\n",
       "      <td>ABBA</td>\n",
       "      <td>Andante, Andante</td>\n",
       "      <td>/a/abba/andante+andante_20002708.html</td>\n",
       "      <td>Take it easy with me, please  \\r\\nTouch me gen...</td>\n",
       "    </tr>\n",
       "    <tr>\n",
       "      <th>2</th>\n",
       "      <td>ABBA</td>\n",
       "      <td>As Good As New</td>\n",
       "      <td>/a/abba/as+good+as+new_20003033.html</td>\n",
       "      <td>I'll never know why I had to go  \\r\\nWhy I had...</td>\n",
       "    </tr>\n",
       "    <tr>\n",
       "      <th>3</th>\n",
       "      <td>ABBA</td>\n",
       "      <td>Bang</td>\n",
       "      <td>/a/abba/bang_20598415.html</td>\n",
       "      <td>Making somebody happy is a question of give an...</td>\n",
       "    </tr>\n",
       "    <tr>\n",
       "      <th>4</th>\n",
       "      <td>ABBA</td>\n",
       "      <td>Bang-A-Boomerang</td>\n",
       "      <td>/a/abba/bang+a+boomerang_20002668.html</td>\n",
       "      <td>Making somebody happy is a question of give an...</td>\n",
       "    </tr>\n",
       "  </tbody>\n",
       "</table>\n",
       "</div>"
      ],
      "text/plain": [
       "  artist                   song                                        link  \\\n",
       "0   ABBA  Ahe's My Kind Of Girl  /a/abba/ahes+my+kind+of+girl_20598417.html   \n",
       "1   ABBA       Andante, Andante       /a/abba/andante+andante_20002708.html   \n",
       "2   ABBA         As Good As New        /a/abba/as+good+as+new_20003033.html   \n",
       "3   ABBA                   Bang                  /a/abba/bang_20598415.html   \n",
       "4   ABBA       Bang-A-Boomerang      /a/abba/bang+a+boomerang_20002668.html   \n",
       "\n",
       "                                                text  \n",
       "0  Look at her face, it's a wonderful face  \\r\\nA...  \n",
       "1  Take it easy with me, please  \\r\\nTouch me gen...  \n",
       "2  I'll never know why I had to go  \\r\\nWhy I had...  \n",
       "3  Making somebody happy is a question of give an...  \n",
       "4  Making somebody happy is a question of give an...  "
      ]
     },
     "execution_count": 24,
     "metadata": {},
     "output_type": "execute_result"
    }
   ],
   "source": [
    "df.head(5)"
   ]
  },
  {
   "cell_type": "code",
   "execution_count": 25,
   "id": "f43f5970-f6ef-4da7-99c5-f4afde72c0c7",
   "metadata": {},
   "outputs": [
    {
     "data": {
      "text/html": [
       "<div>\n",
       "<style scoped>\n",
       "    .dataframe tbody tr th:only-of-type {\n",
       "        vertical-align: middle;\n",
       "    }\n",
       "\n",
       "    .dataframe tbody tr th {\n",
       "        vertical-align: top;\n",
       "    }\n",
       "\n",
       "    .dataframe thead th {\n",
       "        text-align: right;\n",
       "    }\n",
       "</style>\n",
       "<table border=\"1\" class=\"dataframe\">\n",
       "  <thead>\n",
       "    <tr style=\"text-align: right;\">\n",
       "      <th></th>\n",
       "      <th>artist</th>\n",
       "      <th>song</th>\n",
       "      <th>link</th>\n",
       "      <th>text</th>\n",
       "    </tr>\n",
       "  </thead>\n",
       "  <tbody>\n",
       "    <tr>\n",
       "      <th>57645</th>\n",
       "      <td>Ziggy Marley</td>\n",
       "      <td>Good Old Days</td>\n",
       "      <td>/z/ziggy+marley/good+old+days_10198588.html</td>\n",
       "      <td>Irie days come on play  \\r\\nLet the angels fly...</td>\n",
       "    </tr>\n",
       "    <tr>\n",
       "      <th>57646</th>\n",
       "      <td>Ziggy Marley</td>\n",
       "      <td>Hand To Mouth</td>\n",
       "      <td>/z/ziggy+marley/hand+to+mouth_20531167.html</td>\n",
       "      <td>Power to the workers  \\r\\nMore power  \\r\\nPowe...</td>\n",
       "    </tr>\n",
       "    <tr>\n",
       "      <th>57647</th>\n",
       "      <td>Zwan</td>\n",
       "      <td>Come With Me</td>\n",
       "      <td>/z/zwan/come+with+me_20148981.html</td>\n",
       "      <td>all you need  \\r\\nis something i'll believe  \\...</td>\n",
       "    </tr>\n",
       "    <tr>\n",
       "      <th>57648</th>\n",
       "      <td>Zwan</td>\n",
       "      <td>Desire</td>\n",
       "      <td>/z/zwan/desire_20148986.html</td>\n",
       "      <td>northern star  \\r\\nam i frightened  \\r\\nwhere ...</td>\n",
       "    </tr>\n",
       "    <tr>\n",
       "      <th>57649</th>\n",
       "      <td>Zwan</td>\n",
       "      <td>Heartsong</td>\n",
       "      <td>/z/zwan/heartsong_20148991.html</td>\n",
       "      <td>come in  \\r\\nmake yourself at home  \\r\\ni'm a ...</td>\n",
       "    </tr>\n",
       "  </tbody>\n",
       "</table>\n",
       "</div>"
      ],
      "text/plain": [
       "             artist           song  \\\n",
       "57645  Ziggy Marley  Good Old Days   \n",
       "57646  Ziggy Marley  Hand To Mouth   \n",
       "57647          Zwan   Come With Me   \n",
       "57648          Zwan         Desire   \n",
       "57649          Zwan      Heartsong   \n",
       "\n",
       "                                              link  \\\n",
       "57645  /z/ziggy+marley/good+old+days_10198588.html   \n",
       "57646  /z/ziggy+marley/hand+to+mouth_20531167.html   \n",
       "57647           /z/zwan/come+with+me_20148981.html   \n",
       "57648                 /z/zwan/desire_20148986.html   \n",
       "57649              /z/zwan/heartsong_20148991.html   \n",
       "\n",
       "                                                    text  \n",
       "57645  Irie days come on play  \\r\\nLet the angels fly...  \n",
       "57646  Power to the workers  \\r\\nMore power  \\r\\nPowe...  \n",
       "57647  all you need  \\r\\nis something i'll believe  \\...  \n",
       "57648  northern star  \\r\\nam i frightened  \\r\\nwhere ...  \n",
       "57649  come in  \\r\\nmake yourself at home  \\r\\ni'm a ...  "
      ]
     },
     "execution_count": 25,
     "metadata": {},
     "output_type": "execute_result"
    }
   ],
   "source": [
    "df.tail(5)"
   ]
  },
  {
   "cell_type": "code",
   "execution_count": 26,
   "id": "c1b9f2db-fa0a-4459-855d-86a6afd2ade0",
   "metadata": {},
   "outputs": [
    {
     "data": {
      "text/plain": [
       "(57650, 4)"
      ]
     },
     "execution_count": 26,
     "metadata": {},
     "output_type": "execute_result"
    }
   ],
   "source": [
    "df.shape"
   ]
  },
  {
   "cell_type": "code",
   "execution_count": 27,
   "id": "4217989f-a892-4ffd-ae85-16abc0dae5e8",
   "metadata": {},
   "outputs": [
    {
     "data": {
      "text/plain": [
       "artist    0\n",
       "song      0\n",
       "link      0\n",
       "text      0\n",
       "dtype: int64"
      ]
     },
     "execution_count": 27,
     "metadata": {},
     "output_type": "execute_result"
    }
   ],
   "source": [
    "df.isnull().sum()"
   ]
  },
  {
   "cell_type": "code",
   "execution_count": 28,
   "id": "489dc675-0a89-46eb-b0e9-d0d79b32c0ef",
   "metadata": {},
   "outputs": [],
   "source": [
    "df = df.sample(5000).drop( 'link' , axis=1 ).reset_index(drop = True ) "
   ]
  },
  {
   "cell_type": "code",
   "execution_count": 29,
   "id": "be354c8f-3919-4a17-89f9-a58fd0282f12",
   "metadata": {},
   "outputs": [
    {
     "data": {
      "text/html": [
       "<div>\n",
       "<style scoped>\n",
       "    .dataframe tbody tr th:only-of-type {\n",
       "        vertical-align: middle;\n",
       "    }\n",
       "\n",
       "    .dataframe tbody tr th {\n",
       "        vertical-align: top;\n",
       "    }\n",
       "\n",
       "    .dataframe thead th {\n",
       "        text-align: right;\n",
       "    }\n",
       "</style>\n",
       "<table border=\"1\" class=\"dataframe\">\n",
       "  <thead>\n",
       "    <tr style=\"text-align: right;\">\n",
       "      <th></th>\n",
       "      <th>artist</th>\n",
       "      <th>song</th>\n",
       "      <th>text</th>\n",
       "    </tr>\n",
       "  </thead>\n",
       "  <tbody>\n",
       "    <tr>\n",
       "      <th>0</th>\n",
       "      <td>Janis Joplin</td>\n",
       "      <td>Flower In The Sun</td>\n",
       "      <td>Oh please don't you think baby that I am wrong...</td>\n",
       "    </tr>\n",
       "    <tr>\n",
       "      <th>1</th>\n",
       "      <td>Genesis</td>\n",
       "      <td>Am I Very Wrong?</td>\n",
       "      <td>Am I very wrong  \\r\\nTo hide behind the glare ...</td>\n",
       "    </tr>\n",
       "    <tr>\n",
       "      <th>2</th>\n",
       "      <td>O.A.R.</td>\n",
       "      <td>City On Down</td>\n",
       "      <td>Well, in the end my friend,  \\r\\nWe will all b...</td>\n",
       "    </tr>\n",
       "    <tr>\n",
       "      <th>3</th>\n",
       "      <td>Ween</td>\n",
       "      <td>Polka Dot Tail</td>\n",
       "      <td>Did you ever see a whale with a polka dot tail...</td>\n",
       "    </tr>\n",
       "    <tr>\n",
       "      <th>4</th>\n",
       "      <td>Elvis Costello</td>\n",
       "      <td>High Fidelity</td>\n",
       "      <td>Some things you never get used to  \\r\\nEven th...</td>\n",
       "    </tr>\n",
       "  </tbody>\n",
       "</table>\n",
       "</div>"
      ],
      "text/plain": [
       "           artist               song  \\\n",
       "0    Janis Joplin  Flower In The Sun   \n",
       "1         Genesis   Am I Very Wrong?   \n",
       "2          O.A.R.       City On Down   \n",
       "3            Ween     Polka Dot Tail   \n",
       "4  Elvis Costello      High Fidelity   \n",
       "\n",
       "                                                text  \n",
       "0  Oh please don't you think baby that I am wrong...  \n",
       "1  Am I very wrong  \\r\\nTo hide behind the glare ...  \n",
       "2  Well, in the end my friend,  \\r\\nWe will all b...  \n",
       "3  Did you ever see a whale with a polka dot tail...  \n",
       "4  Some things you never get used to  \\r\\nEven th...  "
      ]
     },
     "execution_count": 29,
     "metadata": {},
     "output_type": "execute_result"
    }
   ],
   "source": [
    "df.head(5)"
   ]
  },
  {
   "cell_type": "code",
   "execution_count": 30,
   "id": "725ee4f0-2e2a-4ed0-a0c1-6ec84c652c97",
   "metadata": {},
   "outputs": [
    {
     "data": {
      "text/html": [
       "<div>\n",
       "<style scoped>\n",
       "    .dataframe tbody tr th:only-of-type {\n",
       "        vertical-align: middle;\n",
       "    }\n",
       "\n",
       "    .dataframe tbody tr th {\n",
       "        vertical-align: top;\n",
       "    }\n",
       "\n",
       "    .dataframe thead th {\n",
       "        text-align: right;\n",
       "    }\n",
       "</style>\n",
       "<table border=\"1\" class=\"dataframe\">\n",
       "  <thead>\n",
       "    <tr style=\"text-align: right;\">\n",
       "      <th></th>\n",
       "      <th>artist</th>\n",
       "      <th>song</th>\n",
       "      <th>text</th>\n",
       "    </tr>\n",
       "  </thead>\n",
       "  <tbody>\n",
       "    <tr>\n",
       "      <th>4995</th>\n",
       "      <td>Chicago</td>\n",
       "      <td>Gone Long Gone</td>\n",
       "      <td>I thought for the rest of my life  \\r\\nYou'd s...</td>\n",
       "    </tr>\n",
       "    <tr>\n",
       "      <th>4996</th>\n",
       "      <td>Quiet Riot</td>\n",
       "      <td>Scream And Shout</td>\n",
       "      <td>Yeah  \\r\\nAll right  \\r\\nOh yeah  \\r\\n  \\r\\nOh...</td>\n",
       "    </tr>\n",
       "    <tr>\n",
       "      <th>4997</th>\n",
       "      <td>Face To Face</td>\n",
       "      <td>Planet Of Sound</td>\n",
       "      <td>One fine day in my odd past  \\r\\nI picked me u...</td>\n",
       "    </tr>\n",
       "    <tr>\n",
       "      <th>4998</th>\n",
       "      <td>Van Morrison</td>\n",
       "      <td>Green Mansions</td>\n",
       "      <td>Green mansions, high upon a hill  \\r\\nGreen ma...</td>\n",
       "    </tr>\n",
       "    <tr>\n",
       "      <th>4999</th>\n",
       "      <td>George Strait</td>\n",
       "      <td>I Got A Car</td>\n",
       "      <td>She was leaning on a rail in a cotton dress  \\...</td>\n",
       "    </tr>\n",
       "  </tbody>\n",
       "</table>\n",
       "</div>"
      ],
      "text/plain": [
       "             artist              song  \\\n",
       "4995        Chicago    Gone Long Gone   \n",
       "4996     Quiet Riot  Scream And Shout   \n",
       "4997   Face To Face   Planet Of Sound   \n",
       "4998   Van Morrison    Green Mansions   \n",
       "4999  George Strait       I Got A Car   \n",
       "\n",
       "                                                   text  \n",
       "4995  I thought for the rest of my life  \\r\\nYou'd s...  \n",
       "4996  Yeah  \\r\\nAll right  \\r\\nOh yeah  \\r\\n  \\r\\nOh...  \n",
       "4997  One fine day in my odd past  \\r\\nI picked me u...  \n",
       "4998  Green mansions, high upon a hill  \\r\\nGreen ma...  \n",
       "4999  She was leaning on a rail in a cotton dress  \\...  "
      ]
     },
     "execution_count": 30,
     "metadata": {},
     "output_type": "execute_result"
    }
   ],
   "source": [
    "df.tail(5)"
   ]
  },
  {
   "cell_type": "code",
   "execution_count": 31,
   "id": "f338ac4e-1af1-475d-a587-0a7afa2b7354",
   "metadata": {},
   "outputs": [
    {
     "data": {
      "text/plain": [
       "\"Oh please don't you think baby that I am wrong to cry, yeah.  \\r\\nYou loved me, too,  \\r\\nSo how come you just sit there and laugh  \\r\\nAnd laugh and laugh and laugh?  \\r\\nThings just can't be this way  \\r\\nAnd not for very long  \\r\\nNo no no no no no no no no no no no no no.  \\r\\nOur love affair said it's just history, yes it is.  \\r\\n  \\r\\nAnd I tried to love you in my own way,  \\r\\nI think that you know I did.  \\r\\nBut to have you here, to see you living,  \\r\\nOh so near to me, yeah, yeah, yeah.  \\r\\nOh but you are distant and so it's dead  \\r\\nAnd so often people are glad to be old, yeah yeah,  \\r\\nOur love affair is just history, yes it is.  \\r\\n  \\r\\nOnce in a green time a flower  \\r\\nOh, fell in love with the sun.  \\r\\nThe passion lasted for an hour  \\r\\nAnd then she wilted from her loved one.  \\r\\n  \\r\\nOnce in a green time a flower  \\r\\nOh, fell in love with the sun.  \\r\\nThe passion lasted for an hour  \\r\\nAnd then she wilted from her loved one.  \\r\\n  \\r\\nAnd I see you looking up at the sky, how high it is, yeah.  \\r\\nYou wonder if there is, whoa another me  \\r\\nNow how can that be, how can it be?  \\r\\nWell, I sit here and I ask you, why all this?  \\r\\nI just got toni-ni-ni-night  \\r\\nOur love affair said it's just a history  \\r\\nBut baby, baby, I said it's over, Charlie,  \\r\\nI can't stand another lo-lo-lonely,  \\r\\nI'm never too lonely.  \\r\\n  \\r\\nIt's over baby,  \\r\\nWhere were you when I wanted ya  \\r\\nAnd needed ya right by my side?  \\r\\nI said-a, baby, baby, don't you feel me moving,  \\r\\nBaby, don't you hear me cry ?  \\r\\nI know I hurt you, but Lord don't you know I cried,  \\r\\nI know I hurt you, but babe don't you know I tried,  \\r\\nOh baby, oh babe, whoa.\\r\\n\\r\\n\""
      ]
     },
     "execution_count": 31,
     "metadata": {},
     "output_type": "execute_result"
    }
   ],
   "source": [
    "df['text'][0]"
   ]
  },
  {
   "cell_type": "code",
   "execution_count": 32,
   "id": "db9b7891-5186-4179-bf87-d57327f469a9",
   "metadata": {},
   "outputs": [
    {
     "data": {
      "text/plain": [
       "(5000, 3)"
      ]
     },
     "execution_count": 32,
     "metadata": {},
     "output_type": "execute_result"
    }
   ],
   "source": [
    "df.shape"
   ]
  },
  {
   "cell_type": "code",
   "execution_count": 33,
   "id": "5b298ddd-b553-4cc5-aa1e-f8d6a2741657",
   "metadata": {},
   "outputs": [
    {
     "data": {
      "text/plain": [
       "0       oh please don't you think baby that i am wrong...\n",
       "1       am i very wrong  \\r to hide behind the glare o...\n",
       "2       well, in the end my friend,  \\r we will all be...\n",
       "3       did you ever see a whale with a polka dot tail...\n",
       "4       some things you never get used to  \\r even tho...\n",
       "                              ...                        \n",
       "4995    i thought for the rest of my life  \\r you'd se...\n",
       "4996    yeah  \\r all right  \\r oh yeah  \\r   \\r oh, co...\n",
       "4997    one fine day in my odd past  \\r i picked me up...\n",
       "4998    green mansions, high upon a hill  \\r green man...\n",
       "4999    she was leaning on a rail in a cotton dress  \\...\n",
       "Name: text, Length: 5000, dtype: object"
      ]
     },
     "execution_count": 33,
     "metadata": {},
     "output_type": "execute_result"
    }
   ],
   "source": [
    "df['text'].str.lower().replace(r'\\w\\s',' ').replace(r'\\n',' ',regex=True)"
   ]
  },
  {
   "cell_type": "code",
   "execution_count": 34,
   "id": "f5a3517c-3609-4535-8b87-4875ca123470",
   "metadata": {},
   "outputs": [
    {
     "data": {
      "text/html": [
       "<div>\n",
       "<style scoped>\n",
       "    .dataframe tbody tr th:only-of-type {\n",
       "        vertical-align: middle;\n",
       "    }\n",
       "\n",
       "    .dataframe tbody tr th {\n",
       "        vertical-align: top;\n",
       "    }\n",
       "\n",
       "    .dataframe thead th {\n",
       "        text-align: right;\n",
       "    }\n",
       "</style>\n",
       "<table border=\"1\" class=\"dataframe\">\n",
       "  <thead>\n",
       "    <tr style=\"text-align: right;\">\n",
       "      <th></th>\n",
       "      <th>artist</th>\n",
       "      <th>song</th>\n",
       "      <th>text</th>\n",
       "    </tr>\n",
       "  </thead>\n",
       "  <tbody>\n",
       "    <tr>\n",
       "      <th>4995</th>\n",
       "      <td>Chicago</td>\n",
       "      <td>Gone Long Gone</td>\n",
       "      <td>I thought for the rest of my life  \\r\\nYou'd s...</td>\n",
       "    </tr>\n",
       "    <tr>\n",
       "      <th>4996</th>\n",
       "      <td>Quiet Riot</td>\n",
       "      <td>Scream And Shout</td>\n",
       "      <td>Yeah  \\r\\nAll right  \\r\\nOh yeah  \\r\\n  \\r\\nOh...</td>\n",
       "    </tr>\n",
       "    <tr>\n",
       "      <th>4997</th>\n",
       "      <td>Face To Face</td>\n",
       "      <td>Planet Of Sound</td>\n",
       "      <td>One fine day in my odd past  \\r\\nI picked me u...</td>\n",
       "    </tr>\n",
       "    <tr>\n",
       "      <th>4998</th>\n",
       "      <td>Van Morrison</td>\n",
       "      <td>Green Mansions</td>\n",
       "      <td>Green mansions, high upon a hill  \\r\\nGreen ma...</td>\n",
       "    </tr>\n",
       "    <tr>\n",
       "      <th>4999</th>\n",
       "      <td>George Strait</td>\n",
       "      <td>I Got A Car</td>\n",
       "      <td>She was leaning on a rail in a cotton dress  \\...</td>\n",
       "    </tr>\n",
       "  </tbody>\n",
       "</table>\n",
       "</div>"
      ],
      "text/plain": [
       "             artist              song  \\\n",
       "4995        Chicago    Gone Long Gone   \n",
       "4996     Quiet Riot  Scream And Shout   \n",
       "4997   Face To Face   Planet Of Sound   \n",
       "4998   Van Morrison    Green Mansions   \n",
       "4999  George Strait       I Got A Car   \n",
       "\n",
       "                                                   text  \n",
       "4995  I thought for the rest of my life  \\r\\nYou'd s...  \n",
       "4996  Yeah  \\r\\nAll right  \\r\\nOh yeah  \\r\\n  \\r\\nOh...  \n",
       "4997  One fine day in my odd past  \\r\\nI picked me u...  \n",
       "4998  Green mansions, high upon a hill  \\r\\nGreen ma...  \n",
       "4999  She was leaning on a rail in a cotton dress  \\...  "
      ]
     },
     "execution_count": 34,
     "metadata": {},
     "output_type": "execute_result"
    }
   ],
   "source": [
    "df.tail(5)"
   ]
  },
  {
   "cell_type": "code",
   "execution_count": 35,
   "id": "c2c6bbaf-0136-427a-b635-3d3afbe1eccf",
   "metadata": {},
   "outputs": [
    {
     "name": "stderr",
     "output_type": "stream",
     "text": [
      "[nltk_data] Downloading package punkt to /Users/kalppatel/nltk_data...\n",
      "[nltk_data]   Package punkt is already up-to-date!\n"
     ]
    },
    {
     "data": {
      "text/plain": [
       "True"
      ]
     },
     "execution_count": 35,
     "metadata": {},
     "output_type": "execute_result"
    }
   ],
   "source": [
    "import nltk\n",
    "from nltk.stem.porter import PorterStemmer\n",
    "nltk.download('punkt')"
   ]
  },
  {
   "cell_type": "code",
   "execution_count": 36,
   "id": "86ca8c6c-7bdf-4b2d-b1dc-c9f6c65bb012",
   "metadata": {},
   "outputs": [],
   "source": [
    "stemmer = PorterStemmer()"
   ]
  },
  {
   "cell_type": "code",
   "execution_count": 37,
   "id": "f390559b-ac52-4a6c-abdc-bca662cf6af9",
   "metadata": {},
   "outputs": [],
   "source": [
    "def token(text):\n",
    "    token = nltk.word_tokenize(text)\n",
    "    result = []\n",
    "    for w in token:\n",
    "        result.append(stemmer.stem(w))\n",
    "    a = result\n",
    "    return \" \".join(a)"
   ]
  },
  {
   "cell_type": "code",
   "execution_count": 38,
   "id": "263148d7-2aeb-46f2-b6ee-11aa910ef17d",
   "metadata": {},
   "outputs": [
    {
     "name": "stdout",
     "output_type": "stream",
     "text": [
      "you are love , love\n",
      "you are beauti , beauti\n"
     ]
    }
   ],
   "source": [
    "print(token(\"you are lovely ,love\"))\n",
    "print(token(\"you are beauty , beautiful\"))"
   ]
  },
  {
   "cell_type": "code",
   "execution_count": 39,
   "id": "74604e6d-54cd-4d12-af07-dd4c32aa1a5a",
   "metadata": {},
   "outputs": [
    {
     "data": {
      "text/plain": [
       "0       oh pleas do n't you think babi that i am wrong...\n",
       "1       am i veri wrong to hide behind the glare of an...\n",
       "2       well , in the end my friend , we will all be t...\n",
       "3       did you ever see a whale with a polka dot tail...\n",
       "4       some thing you never get use to even though yo...\n",
       "                              ...                        \n",
       "4995    i thought for the rest of my life you 'd see m...\n",
       "4996    yeah all right oh yeah oh , come on boy your l...\n",
       "4997    one fine day in my odd past i pick me up a tra...\n",
       "4998    green mansion , high upon a hill green mansion...\n",
       "4999    she wa lean on a rail in a cotton dress summer...\n",
       "Name: text, Length: 5000, dtype: object"
      ]
     },
     "execution_count": 39,
     "metadata": {},
     "output_type": "execute_result"
    }
   ],
   "source": [
    "result = []\n",
    "for x in df['text']:\n",
    "    result.append(token(x))\n",
    "df['text'] = result\n",
    "df['text']"
   ]
  },
  {
   "cell_type": "code",
   "execution_count": 1,
   "id": "4c390119-bf03-43d3-ace4-cd181dcfcd9c",
   "metadata": {},
   "outputs": [],
   "source": [
    "from sklearn.feature_extraction.text import TfidfVectorizer\n",
    "from sklearn.metrics.pairwise import cosine_similarity"
   ]
  },
  {
   "cell_type": "code",
   "execution_count": 2,
   "id": "826f2c4a-7850-49cf-8086-b132979bf9ce",
   "metadata": {},
   "outputs": [],
   "source": [
    "tfid = TfidfVectorizer(analyzer = 'word' , stop_words = 'english')"
   ]
  },
  {
   "cell_type": "code",
   "execution_count": null,
   "id": "0d8d4206-db46-4cef-8d49-9b90439b34cc",
   "metadata": {},
   "outputs": [],
   "source": [
    "matrix = tfid.fit_transform(df['text'])"
   ]
  },
  {
   "cell_type": "code",
   "execution_count": null,
   "id": "def117a1-8948-4746-a5e9-08d6d5e85edc",
   "metadata": {},
   "outputs": [],
   "source": [
    "similar = cosine_similarity(matrix)"
   ]
  },
  {
   "cell_type": "code",
   "execution_count": 44,
   "id": "9928e7eb-6e22-4f52-a65c-01800ca2cdca",
   "metadata": {},
   "outputs": [
    {
     "data": {
      "text/plain": [
       "array([1.        , 0.05881764, 0.06735106, ..., 0.0214446 , 0.12770393,\n",
       "       0.16542675])"
      ]
     },
     "execution_count": 44,
     "metadata": {},
     "output_type": "execute_result"
    }
   ],
   "source": [
    "similar[0]"
   ]
  },
  {
   "cell_type": "code",
   "execution_count": 45,
   "id": "fe70add3-7202-42f0-963c-ecca03ae4c34",
   "metadata": {},
   "outputs": [],
   "source": [
    "def recommender(song_name):\n",
    "    idx = df[df['song'] == song_name].index[0]\n",
    "    distances = similar[idx]\n",
    "    sorted_indices = sorted(list(enumerate(distances)), key=lambda x: x[1], reverse=True)\n",
    "    \n",
    "    recommended_songs = []\n",
    "    for i in sorted_indices[1:6]:\n",
    "        recommended_songs.append(df.iloc[i[0]].song)\n",
    "    \n",
    "    return recommended_songs"
   ]
  },
  {
   "cell_type": "code",
   "execution_count": 47,
   "id": "c3bf207f-2940-41b5-aef8-efb925613d7d",
   "metadata": {},
   "outputs": [
    {
     "data": {
      "text/plain": [
       "[\"My Baby's Gone\",\n",
       " 'All The Beautiful Things',\n",
       " 'Redondo Beach',\n",
       " 'Dead Man Walking',\n",
       " 'Gone']"
      ]
     },
     "execution_count": 47,
     "metadata": {},
     "output_type": "execute_result"
    }
   ],
   "source": [
    "recommender('Gone Long Gone')"
   ]
  },
  {
   "cell_type": "code",
   "execution_count": 48,
   "id": "eb49d9c2-494a-4bb0-b8bc-39ca500fa919",
   "metadata": {},
   "outputs": [],
   "source": [
    "import pickle\n",
    "pickle.dump(similar,open('similarity.pkl','wb'))\n",
    "pickle.dump(df,open('df.pkl','wb'))"
   ]
  }
 ],
 "metadata": {
  "kernelspec": {
   "display_name": "Python 3",
   "language": "python",
   "name": "python3"
  },
  "language_info": {
   "codemirror_mode": {
    "name": "ipython",
    "version": 3
   },
   "file_extension": ".py",
   "mimetype": "text/x-python",
   "name": "python",
   "nbconvert_exporter": "python",
   "pygments_lexer": "ipython3",
   "version": "3.9.6"
  }
 },
 "nbformat": 4,
 "nbformat_minor": 5
}
